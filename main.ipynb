{
 "cells": [
  {
   "cell_type": "code",
   "execution_count": null,
   "metadata": {},
   "outputs": [],
   "source": [
    "#<Ind != a, cnn, EDR, h3c3>\n",
    "import os\n",
    "os.environ[\"CUDA_VISIBLE_DEVICES\"]=\"3\"\n",
    "import numpy as np\n",
    "import random\n",
    "import pandas as pd\n",
    "import os\n",
    "import sklearn\n",
    "from sklearn.mixture import GaussianMixture\n",
    "from scipy import stats\n",
    "from options import Options\n",
    "opt = Options().parse()\n",
    "from data_provider.DS import * \n",
    "\n",
    "trainX = pd.read_csv('./data_provider/datasets/'+opt.stream_sensor+'.csv', sep='\\t')\n",
    "trainX.columns = [\"id\", \"datetime\", \"value\"] \n",
    "trainX.sort_values('datetime', inplace=True),\n",
    "R_X = pd.read_csv('./data_provider/datasets/'+opt.rain_sensor+'.csv', sep='\\t')\n",
    "R_X.columns = [\"id\", \"datetime\", \"value\"] \n",
    "R_X.sort_values('datetime', inplace=True)\n",
    "ds = DS(opt, trainX, R_X)\n"
   ]
  },
  {
   "cell_type": "code",
   "execution_count": null,
   "metadata": {},
   "outputs": [],
   "source": [
    "from models.TED import *\n",
    "model = DAN(opt,ds)\n",
    "model.train()"
   ]
  },
  {
   "cell_type": "code",
   "execution_count": null,
   "metadata": {},
   "outputs": [],
   "source": [
    "from matplotlib import pyplot as plt\n",
    "ds.refresh_dataset(trainX, R_X)\n",
    "model.model_load()\n",
    "model.inference()"
   ]
  },
  {
   "cell_type": "code",
   "execution_count": null,
   "metadata": {},
   "outputs": [],
   "source": []
  }
 ],
 "metadata": {
  "kernelspec": {
   "display_name": "Python 3",
   "language": "python",
   "name": "python3"
  },
  "language_info": {
   "codemirror_mode": {
    "name": "ipython",
    "version": 3
   },
   "file_extension": ".py",
   "mimetype": "text/x-python",
   "name": "python",
   "nbconvert_exporter": "python",
   "pygments_lexer": "ipython3",
   "version": "3.8.3"
  }
 },
 "nbformat": 4,
 "nbformat_minor": 4
}
